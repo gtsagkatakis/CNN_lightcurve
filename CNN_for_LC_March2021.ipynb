{
  "nbformat": 4,
  "nbformat_minor": 0,
  "metadata": {
    "colab": {
      "name": "CNN_for_LC_March2021.ipynb",
      "provenance": [],
      "collapsed_sections": [],
      "mount_file_id": "1isMuHOiFC1SAX11ke2DB8Jnh4krywxFd",
      "authorship_tag": "ABX9TyNaNIBPIZ57McyUAq7DdCL8",
      "include_colab_link": true
    },
    "kernelspec": {
      "name": "python3",
      "display_name": "Python 3"
    }
  },
  "cells": [
    {
      "cell_type": "markdown",
      "metadata": {
        "id": "view-in-github",
        "colab_type": "text"
      },
      "source": [
        "<a href=\"https://colab.research.google.com/github/gtsagkatakis/CNN_lightcurve/blob/main/CNN_for_LC_March2021.ipynb\" target=\"_parent\"><img src=\"https://colab.research.google.com/assets/colab-badge.svg\" alt=\"Open In Colab\"/></a>"
      ]
    },
    {
      "cell_type": "markdown",
      "metadata": {
        "id": "f0FuWs3_2ysz"
      },
      "source": [
        "First you need to import your Google drive where data are located"
      ]
    },
    {
      "cell_type": "code",
      "metadata": {
        "colab": {
          "base_uri": "https://localhost:8080/"
        },
        "id": "HWQ61vhoyXW9",
        "outputId": "64e92c9e-fdc5-4fb9-b2a8-cd5b790f5b82"
      },
      "source": [
        "from google.colab import drive\n",
        "drive.mount('/content/drive')"
      ],
      "execution_count": null,
      "outputs": [
        {
          "output_type": "stream",
          "text": [
            "Drive already mounted at /content/drive; to attempt to forcibly remount, call drive.mount(\"/content/drive\", force_remount=True).\n"
          ],
          "name": "stdout"
        }
      ]
    },
    {
      "cell_type": "markdown",
      "metadata": {
        "id": "JV-uNxYi24o8"
      },
      "source": [
        "Import necessary libraries and define a plotting function"
      ]
    },
    {
      "cell_type": "code",
      "metadata": {
        "id": "rMimmddLmQV9"
      },
      "source": [
        "# -*- coding: utf-8 -*-\n",
        "\"\"\"\n",
        "Created on Fri Mar 16 15:05:46 2018\n",
        "\n",
        "@author: Grigorios Tsagkatakis\n",
        "\"\"\"\n",
        "import numpy as np\n",
        "import matplotlib.pyplot as plt\n",
        "from tensorflow.keras.models import Model\n",
        "from tensorflow.keras.layers import Add, Conv1D, MaxPooling1D, Dropout, Flatten, Dense, Input, BatchNormalization\n",
        "from tensorflow.keras.optimizers import Adam\n",
        "from IPython.display import clear_output\n",
        "import scipy.io as scio\n",
        "import tensorflow.keras.utils as ult\n",
        "from tensorflow.keras import regularizers\n",
        "from tensorflow.keras.models import load_model\n",
        "import pickle\n",
        "from sklearn import metrics\n",
        "import tensorflow as tf\n",
        "\n",
        "\n",
        "class PlotLosses(tf.keras.callbacks.Callback):\n",
        "    def on_train_begin(self, logs={}):\n",
        "        self.i = 0\n",
        "        self.x = []\n",
        "        self.losses = []\n",
        "        self.val_losses = []\n",
        "        self.losses2 = []\n",
        "        self.val_losses2 = []\n",
        "        \n",
        "        \n",
        "        self.fig = plt.figure()\n",
        "        \n",
        "        self.logs = []\n",
        "\n",
        "    def on_epoch_end(self, epoch, logs={}):\n",
        "        self.logs.append(logs)\n",
        "        self.x.append(self.i)\n",
        "        self.losses.append(logs.get('loss'))\n",
        "        self.val_losses.append(logs.get('val_loss'))\n",
        "        self.losses2.append(logs.get('categorical_accuracy'))\n",
        "        self.val_losses2.append(logs.get('val_categorical_accuracy'))\n",
        "\n",
        "        self.i += 1\n",
        "        \n",
        "        clear_output(wait=True)\n",
        "        plt.subplot(1,2,1)\n",
        "        plt.plot(self.x, self.losses2, label=\"Training accuracy\",linestyle='-')\n",
        "        plt.plot(self.x, self.val_losses2, label=\"Validataion accuracy\",linestyle='--')\n",
        "        plt.ylim(0,1)\n",
        "        plt.legend()\n",
        "        plt.xlabel('Epoch')\n",
        "        plt.ylabel('Accuracy')\n",
        "        plt.savefig('acc_running.png',dpi=300)\n",
        "        \n",
        "        plt.subplot(1,2,2)\n",
        "        plt.plot(self.x, self.losses, label=\"Training loss\",linestyle='-')\n",
        "        plt.plot(self.x, self.val_losses, label=\"Validataion loss\",linestyle='--')\n",
        "        plt.legend()\n",
        "        plt.xlabel('Epoch')\n",
        "        plt.ylabel('Loss')\n",
        "        \n",
        "        plt.tight_layout()\n",
        "        \n",
        "        plt.savefig('loss_running.png',dpi=300)\n",
        "        \n",
        "        plt.show();\n",
        "        \n"
      ],
      "execution_count": null,
      "outputs": []
    },
    {
      "cell_type": "markdown",
      "metadata": {
        "id": "FVSg9QmX3Cl7"
      },
      "source": [
        "Load data for training and validataion"
      ]
    },
    {
      "cell_type": "code",
      "metadata": {
        "id": "pdALLy3ex1es"
      },
      "source": [
        "       \n",
        "plot_losses = PlotLosses()\n",
        "\n",
        "plt.close('all')\n",
        "\n",
        "mat = scio.loadmat('/content/drive/MyDrive/CNN_LightCurveProject/lc_50000examples_train_n_validate.mat')\n",
        "\n",
        "data=mat.get('data')\n",
        "labels=mat.get('labels')\n",
        "\n",
        "[n1,n2]=data.shape\n",
        "\n",
        "data=data.reshape(n1, n2, 1)\n",
        "\n",
        "num_train=  45000 \n",
        "num_val =   5000\n",
        "\n",
        "train_data=data[0:num_train,:,:]\n",
        "val_data=data[num_train:num_train+num_val,:,:]\n",
        "\n",
        "train_labels=labels[0:num_train]\n",
        "val_labels=labels[num_train:num_train+num_val]\n",
        "\n",
        "num_classes=10\n",
        "\n",
        "train_labels_1hot=ult.to_categorical(train_labels,num_classes=num_classes)\n",
        "val_labels_1hot=ult.to_categorical(val_labels,num_classes=num_classes)\n"
      ],
      "execution_count": null,
      "outputs": []
    },
    {
      "cell_type": "markdown",
      "metadata": {
        "id": "oj2mfzoT3GPD"
      },
      "source": [
        "Define deep learning model"
      ]
    },
    {
      "cell_type": "code",
      "metadata": {
        "id": "raUUr9FCx7c7"
      },
      "source": [
        "\n",
        "def layer_group(x):\n",
        "    conv00  = Conv1D(32, (10), activation='relu', dilation_rate=1, padding='same')(x)\n",
        "    conv01  = Conv1D(32, (20), activation='relu', dilation_rate=1, padding='same')(conv00)\n",
        "    conv02  = Conv1D(32, (50), activation='relu', dilation_rate=1, padding='same')(conv01)\n",
        "    add0 = Add()([x,conv02])\n",
        "    pool00  = MaxPooling1D(pool_size=(3), strides=(2), padding='same')(add0)\n",
        "    bn1 = BatchNormalization()(pool00)\n",
        "    return bn1  \n",
        "    \n",
        "\n",
        "inputs = Input(( n2, 1),name='main_input')\n",
        "\n",
        "conv00  = Conv1D(32, (1), activation='linear', dilation_rate=1, padding='same')(inputs)\n",
        "\n",
        "l1=layer_group(conv00)\n",
        "l2=layer_group(l1)\n",
        "l3=layer_group(l2)\n",
        "l4=layer_group(l3)\n",
        "l5=layer_group(l4)\n",
        "\n",
        "fl0 = Flatten(name='fl0')(l5)\n",
        "\n",
        "fc0     = Dense(128,activation='linear', kernel_regularizer=regularizers.l2(0.1))(fl0)\n",
        "Do0     = Dropout(0.75)(fc0) \n",
        "fc1     = Dense(32,activation='linear', kernel_regularizer=regularizers.l2(0.1))(Do0)\n",
        "Do1     = Dropout(0.75)(fc1) \n",
        "Dn0     = Dense(num_classes,activation='softmax')(Do1)\n",
        "\n",
        "\n",
        "model_1 = Model(inputs=[inputs], outputs=[Dn0])\n",
        "optzr =  Adam(lr=1e-3, beta_1=0.9, beta_2=0.999, decay=1e-5)\n",
        "\n",
        "model_1.compile(loss='categorical_crossentropy',optimizer=optzr, metrics =['categorical_accuracy'])\n"
      ],
      "execution_count": null,
      "outputs": []
    },
    {
      "cell_type": "markdown",
      "metadata": {
        "id": "LGINhmyY4G0u"
      },
      "source": [
        "(Optional) Train model on data"
      ]
    },
    {
      "cell_type": "code",
      "metadata": {
        "id": "uCTlWNZRx88D"
      },
      "source": [
        "history=model_1.fit(train_data,[train_labels_1hot], batch_size=100, epochs=5,validation_data=[val_data,val_labels_1hot],callbacks=[plot_losses],shuffle=True)\n",
        "with open('trainHistoryDict', 'wb') as file_pi:\n",
        "    pickle.dump(history.history, file_pi)\n"
      ],
      "execution_count": null,
      "outputs": []
    },
    {
      "cell_type": "markdown",
      "metadata": {
        "id": "pNu_fE5K3Mm0"
      },
      "source": [
        "Load trained model\n"
      ]
    },
    {
      "cell_type": "code",
      "metadata": {
        "id": "q03NVIkHyA7b"
      },
      "source": [
        "model_1 = tf.keras.models.load_model('/content/drive/MyDrive/CNN_LightCurveProject/full_model_45000training_500epochs.h5')\n"
      ],
      "execution_count": null,
      "outputs": []
    },
    {
      "cell_type": "markdown",
      "metadata": {
        "id": "Gk-Vvt9-3P_c"
      },
      "source": [
        "Report performance on validataion set"
      ]
    },
    {
      "cell_type": "code",
      "metadata": {
        "colab": {
          "base_uri": "https://localhost:8080/",
          "height": 333
        },
        "id": "BSSBW2Ifzfts",
        "outputId": "60158469-c880-4022-8094-943b898cd9ae"
      },
      "source": [
        "res=model_1.evaluate([val_data],[val_labels_1hot])\n",
        "print(res)"
      ],
      "execution_count": null,
      "outputs": [
        {
          "output_type": "stream",
          "text": [
            " 69/157 [============>.................] - ETA: 23s - loss: 0.1177 - categorical_accuracy: 0.9964"
          ],
          "name": "stdout"
        },
        {
          "output_type": "error",
          "ename": "KeyboardInterrupt",
          "evalue": "ignored",
          "traceback": [
            "\u001b[0;31m---------------------------------------------------------------------------\u001b[0m",
            "\u001b[0;31mKeyboardInterrupt\u001b[0m                         Traceback (most recent call last)",
            "\u001b[0;32m<ipython-input-7-4d0063e1e74c>\u001b[0m in \u001b[0;36m<module>\u001b[0;34m()\u001b[0m\n\u001b[0;32m----> 1\u001b[0;31m \u001b[0mres\u001b[0m\u001b[0;34m=\u001b[0m\u001b[0mmodel_1\u001b[0m\u001b[0;34m.\u001b[0m\u001b[0mevaluate\u001b[0m\u001b[0;34m(\u001b[0m\u001b[0;34m[\u001b[0m\u001b[0mval_data\u001b[0m\u001b[0;34m]\u001b[0m\u001b[0;34m,\u001b[0m\u001b[0;34m[\u001b[0m\u001b[0mval_labels_1hot\u001b[0m\u001b[0;34m]\u001b[0m\u001b[0;34m)\u001b[0m\u001b[0;34m\u001b[0m\u001b[0;34m\u001b[0m\u001b[0m\n\u001b[0m\u001b[1;32m      2\u001b[0m \u001b[0mprint\u001b[0m\u001b[0;34m(\u001b[0m\u001b[0mres\u001b[0m\u001b[0;34m)\u001b[0m\u001b[0;34m\u001b[0m\u001b[0;34m\u001b[0m\u001b[0m\n",
            "\u001b[0;32m/usr/local/lib/python3.7/dist-packages/tensorflow/python/keras/engine/training.py\u001b[0m in \u001b[0;36mevaluate\u001b[0;34m(self, x, y, batch_size, verbose, sample_weight, steps, callbacks, max_queue_size, workers, use_multiprocessing, return_dict)\u001b[0m\n\u001b[1;32m   1387\u001b[0m             \u001b[0;32mwith\u001b[0m \u001b[0mtrace\u001b[0m\u001b[0;34m.\u001b[0m\u001b[0mTrace\u001b[0m\u001b[0;34m(\u001b[0m\u001b[0;34m'test'\u001b[0m\u001b[0;34m,\u001b[0m \u001b[0mstep_num\u001b[0m\u001b[0;34m=\u001b[0m\u001b[0mstep\u001b[0m\u001b[0;34m,\u001b[0m \u001b[0m_r\u001b[0m\u001b[0;34m=\u001b[0m\u001b[0;36m1\u001b[0m\u001b[0;34m)\u001b[0m\u001b[0;34m:\u001b[0m\u001b[0;34m\u001b[0m\u001b[0;34m\u001b[0m\u001b[0m\n\u001b[1;32m   1388\u001b[0m               \u001b[0mcallbacks\u001b[0m\u001b[0;34m.\u001b[0m\u001b[0mon_test_batch_begin\u001b[0m\u001b[0;34m(\u001b[0m\u001b[0mstep\u001b[0m\u001b[0;34m)\u001b[0m\u001b[0;34m\u001b[0m\u001b[0;34m\u001b[0m\u001b[0m\n\u001b[0;32m-> 1389\u001b[0;31m               \u001b[0mtmp_logs\u001b[0m \u001b[0;34m=\u001b[0m \u001b[0mself\u001b[0m\u001b[0;34m.\u001b[0m\u001b[0mtest_function\u001b[0m\u001b[0;34m(\u001b[0m\u001b[0miterator\u001b[0m\u001b[0;34m)\u001b[0m\u001b[0;34m\u001b[0m\u001b[0;34m\u001b[0m\u001b[0m\n\u001b[0m\u001b[1;32m   1390\u001b[0m               \u001b[0;32mif\u001b[0m \u001b[0mdata_handler\u001b[0m\u001b[0;34m.\u001b[0m\u001b[0mshould_sync\u001b[0m\u001b[0;34m:\u001b[0m\u001b[0;34m\u001b[0m\u001b[0;34m\u001b[0m\u001b[0m\n\u001b[1;32m   1391\u001b[0m                 \u001b[0mcontext\u001b[0m\u001b[0;34m.\u001b[0m\u001b[0masync_wait\u001b[0m\u001b[0;34m(\u001b[0m\u001b[0;34m)\u001b[0m\u001b[0;34m\u001b[0m\u001b[0;34m\u001b[0m\u001b[0m\n",
            "\u001b[0;32m/usr/local/lib/python3.7/dist-packages/tensorflow/python/eager/def_function.py\u001b[0m in \u001b[0;36m__call__\u001b[0;34m(self, *args, **kwds)\u001b[0m\n\u001b[1;32m    826\u001b[0m     \u001b[0mtracing_count\u001b[0m \u001b[0;34m=\u001b[0m \u001b[0mself\u001b[0m\u001b[0;34m.\u001b[0m\u001b[0mexperimental_get_tracing_count\u001b[0m\u001b[0;34m(\u001b[0m\u001b[0;34m)\u001b[0m\u001b[0;34m\u001b[0m\u001b[0;34m\u001b[0m\u001b[0m\n\u001b[1;32m    827\u001b[0m     \u001b[0;32mwith\u001b[0m \u001b[0mtrace\u001b[0m\u001b[0;34m.\u001b[0m\u001b[0mTrace\u001b[0m\u001b[0;34m(\u001b[0m\u001b[0mself\u001b[0m\u001b[0;34m.\u001b[0m\u001b[0m_name\u001b[0m\u001b[0;34m)\u001b[0m \u001b[0;32mas\u001b[0m \u001b[0mtm\u001b[0m\u001b[0;34m:\u001b[0m\u001b[0;34m\u001b[0m\u001b[0;34m\u001b[0m\u001b[0m\n\u001b[0;32m--> 828\u001b[0;31m       \u001b[0mresult\u001b[0m \u001b[0;34m=\u001b[0m \u001b[0mself\u001b[0m\u001b[0;34m.\u001b[0m\u001b[0m_call\u001b[0m\u001b[0;34m(\u001b[0m\u001b[0;34m*\u001b[0m\u001b[0margs\u001b[0m\u001b[0;34m,\u001b[0m \u001b[0;34m**\u001b[0m\u001b[0mkwds\u001b[0m\u001b[0;34m)\u001b[0m\u001b[0;34m\u001b[0m\u001b[0;34m\u001b[0m\u001b[0m\n\u001b[0m\u001b[1;32m    829\u001b[0m       \u001b[0mcompiler\u001b[0m \u001b[0;34m=\u001b[0m \u001b[0;34m\"xla\"\u001b[0m \u001b[0;32mif\u001b[0m \u001b[0mself\u001b[0m\u001b[0;34m.\u001b[0m\u001b[0m_experimental_compile\u001b[0m \u001b[0;32melse\u001b[0m \u001b[0;34m\"nonXla\"\u001b[0m\u001b[0;34m\u001b[0m\u001b[0;34m\u001b[0m\u001b[0m\n\u001b[1;32m    830\u001b[0m       \u001b[0mnew_tracing_count\u001b[0m \u001b[0;34m=\u001b[0m \u001b[0mself\u001b[0m\u001b[0;34m.\u001b[0m\u001b[0mexperimental_get_tracing_count\u001b[0m\u001b[0;34m(\u001b[0m\u001b[0;34m)\u001b[0m\u001b[0;34m\u001b[0m\u001b[0;34m\u001b[0m\u001b[0m\n",
            "\u001b[0;32m/usr/local/lib/python3.7/dist-packages/tensorflow/python/eager/def_function.py\u001b[0m in \u001b[0;36m_call\u001b[0;34m(self, *args, **kwds)\u001b[0m\n\u001b[1;32m    860\u001b[0m       \u001b[0;31m# In this case we have not created variables on the first call. So we can\u001b[0m\u001b[0;34m\u001b[0m\u001b[0;34m\u001b[0m\u001b[0;34m\u001b[0m\u001b[0m\n\u001b[1;32m    861\u001b[0m       \u001b[0;31m# run the first trace but we should fail if variables are created.\u001b[0m\u001b[0;34m\u001b[0m\u001b[0;34m\u001b[0m\u001b[0;34m\u001b[0m\u001b[0m\n\u001b[0;32m--> 862\u001b[0;31m       \u001b[0mresults\u001b[0m \u001b[0;34m=\u001b[0m \u001b[0mself\u001b[0m\u001b[0;34m.\u001b[0m\u001b[0m_stateful_fn\u001b[0m\u001b[0;34m(\u001b[0m\u001b[0;34m*\u001b[0m\u001b[0margs\u001b[0m\u001b[0;34m,\u001b[0m \u001b[0;34m**\u001b[0m\u001b[0mkwds\u001b[0m\u001b[0;34m)\u001b[0m\u001b[0;34m\u001b[0m\u001b[0;34m\u001b[0m\u001b[0m\n\u001b[0m\u001b[1;32m    863\u001b[0m       \u001b[0;32mif\u001b[0m \u001b[0mself\u001b[0m\u001b[0;34m.\u001b[0m\u001b[0m_created_variables\u001b[0m\u001b[0;34m:\u001b[0m\u001b[0;34m\u001b[0m\u001b[0;34m\u001b[0m\u001b[0m\n\u001b[1;32m    864\u001b[0m         raise ValueError(\"Creating variables on a non-first call to a function\"\n",
            "\u001b[0;32m/usr/local/lib/python3.7/dist-packages/tensorflow/python/eager/function.py\u001b[0m in \u001b[0;36m__call__\u001b[0;34m(self, *args, **kwargs)\u001b[0m\n\u001b[1;32m   2941\u001b[0m        filtered_flat_args) = self._maybe_define_function(args, kwargs)\n\u001b[1;32m   2942\u001b[0m     return graph_function._call_flat(\n\u001b[0;32m-> 2943\u001b[0;31m         filtered_flat_args, captured_inputs=graph_function.captured_inputs)  # pylint: disable=protected-access\n\u001b[0m\u001b[1;32m   2944\u001b[0m \u001b[0;34m\u001b[0m\u001b[0m\n\u001b[1;32m   2945\u001b[0m   \u001b[0;34m@\u001b[0m\u001b[0mproperty\u001b[0m\u001b[0;34m\u001b[0m\u001b[0;34m\u001b[0m\u001b[0m\n",
            "\u001b[0;32m/usr/local/lib/python3.7/dist-packages/tensorflow/python/eager/function.py\u001b[0m in \u001b[0;36m_call_flat\u001b[0;34m(self, args, captured_inputs, cancellation_manager)\u001b[0m\n\u001b[1;32m   1917\u001b[0m       \u001b[0;31m# No tape is watching; skip to running the function.\u001b[0m\u001b[0;34m\u001b[0m\u001b[0;34m\u001b[0m\u001b[0;34m\u001b[0m\u001b[0m\n\u001b[1;32m   1918\u001b[0m       return self._build_call_outputs(self._inference_function.call(\n\u001b[0;32m-> 1919\u001b[0;31m           ctx, args, cancellation_manager=cancellation_manager))\n\u001b[0m\u001b[1;32m   1920\u001b[0m     forward_backward = self._select_forward_and_backward_functions(\n\u001b[1;32m   1921\u001b[0m         \u001b[0margs\u001b[0m\u001b[0;34m,\u001b[0m\u001b[0;34m\u001b[0m\u001b[0;34m\u001b[0m\u001b[0m\n",
            "\u001b[0;32m/usr/local/lib/python3.7/dist-packages/tensorflow/python/eager/function.py\u001b[0m in \u001b[0;36mcall\u001b[0;34m(self, ctx, args, cancellation_manager)\u001b[0m\n\u001b[1;32m    558\u001b[0m               \u001b[0minputs\u001b[0m\u001b[0;34m=\u001b[0m\u001b[0margs\u001b[0m\u001b[0;34m,\u001b[0m\u001b[0;34m\u001b[0m\u001b[0;34m\u001b[0m\u001b[0m\n\u001b[1;32m    559\u001b[0m               \u001b[0mattrs\u001b[0m\u001b[0;34m=\u001b[0m\u001b[0mattrs\u001b[0m\u001b[0;34m,\u001b[0m\u001b[0;34m\u001b[0m\u001b[0;34m\u001b[0m\u001b[0m\n\u001b[0;32m--> 560\u001b[0;31m               ctx=ctx)\n\u001b[0m\u001b[1;32m    561\u001b[0m         \u001b[0;32melse\u001b[0m\u001b[0;34m:\u001b[0m\u001b[0;34m\u001b[0m\u001b[0;34m\u001b[0m\u001b[0m\n\u001b[1;32m    562\u001b[0m           outputs = execute.execute_with_cancellation(\n",
            "\u001b[0;32m/usr/local/lib/python3.7/dist-packages/tensorflow/python/eager/execute.py\u001b[0m in \u001b[0;36mquick_execute\u001b[0;34m(op_name, num_outputs, inputs, attrs, ctx, name)\u001b[0m\n\u001b[1;32m     58\u001b[0m     \u001b[0mctx\u001b[0m\u001b[0;34m.\u001b[0m\u001b[0mensure_initialized\u001b[0m\u001b[0;34m(\u001b[0m\u001b[0;34m)\u001b[0m\u001b[0;34m\u001b[0m\u001b[0;34m\u001b[0m\u001b[0m\n\u001b[1;32m     59\u001b[0m     tensors = pywrap_tfe.TFE_Py_Execute(ctx._handle, device_name, op_name,\n\u001b[0;32m---> 60\u001b[0;31m                                         inputs, attrs, num_outputs)\n\u001b[0m\u001b[1;32m     61\u001b[0m   \u001b[0;32mexcept\u001b[0m \u001b[0mcore\u001b[0m\u001b[0;34m.\u001b[0m\u001b[0m_NotOkStatusException\u001b[0m \u001b[0;32mas\u001b[0m \u001b[0me\u001b[0m\u001b[0;34m:\u001b[0m\u001b[0;34m\u001b[0m\u001b[0;34m\u001b[0m\u001b[0m\n\u001b[1;32m     62\u001b[0m     \u001b[0;32mif\u001b[0m \u001b[0mname\u001b[0m \u001b[0;32mis\u001b[0m \u001b[0;32mnot\u001b[0m \u001b[0;32mNone\u001b[0m\u001b[0;34m:\u001b[0m\u001b[0;34m\u001b[0m\u001b[0;34m\u001b[0m\u001b[0m\n",
            "\u001b[0;31mKeyboardInterrupt\u001b[0m: "
          ]
        }
      ]
    },
    {
      "cell_type": "markdown",
      "metadata": {
        "id": "e6KhHH4X3Srz"
      },
      "source": [
        "(Optinal) plot training history"
      ]
    },
    {
      "cell_type": "code",
      "metadata": {
        "colab": {
          "base_uri": "https://localhost:8080/",
          "height": 226
        },
        "id": "pwBNvYYcxvUD",
        "outputId": "f52e4cb1-af04-4186-c184-33c70c6a4e38"
      },
      "source": [
        "   \n",
        "g=pickle.load(open('/content/drive/MyDrive/CNN_LightCurveProject/trainHistoryDict','rb'))\n",
        "\n",
        "A=model_1.history.history\n",
        "B1=A.get('categorical_accuracy')\n",
        "C1=np.asarray(B1)\n",
        "B2=A.get('val_categorical_accuracy')\n",
        "C2=np.asarray(B2)\n",
        "\n",
        "\n",
        "plt.plot(C1,label=\"Training accuracy\",linestyle='-')\n",
        "plt.plot(C2,label=\"Validataion accuracy\",linestyle='--')\n",
        "plt.legend()\n",
        "plt.ylim(0,1)\n",
        "plt.xlabel('Epoch')\n",
        "plt.ylabel('Categorical accuracy')\n",
        "plt.savefig('acc_0.png',dpi=300)\n",
        "plt.show()\n",
        "\n",
        "\n",
        "A=model_1.history.history\n",
        "B1=A.get('loss')\n",
        "C1=np.asarray(B1)\n",
        "B2=A.get('val_loss')\n",
        "C2=np.asarray(B2)\n",
        "\n",
        "plt.plot(C1,label=\"Training loss \",linestyle='-')\n",
        "plt.plot(C2,label=\"validataion loss \",linestyle='--')\n",
        "plt.legend()\n",
        "plt.xlabel('Epoch')\n",
        "plt.ylabel('Categorical crossentropy')\n",
        "plt.savefig('loss_0.png',dpi=300)\n",
        "plt.show()\n"
      ],
      "execution_count": null,
      "outputs": [
        {
          "output_type": "error",
          "ename": "FileNotFoundError",
          "evalue": "ignored",
          "traceback": [
            "\u001b[0;31m---------------------------------------------------------------------------\u001b[0m",
            "\u001b[0;31mFileNotFoundError\u001b[0m                         Traceback (most recent call last)",
            "\u001b[0;32m<ipython-input-7-d664da55c6e1>\u001b[0m in \u001b[0;36m<module>\u001b[0;34m()\u001b[0m\n\u001b[1;32m      1\u001b[0m \u001b[0;34m\u001b[0m\u001b[0m\n\u001b[1;32m      2\u001b[0m \u001b[0;34m\u001b[0m\u001b[0m\n\u001b[0;32m----> 3\u001b[0;31m \u001b[0mg\u001b[0m\u001b[0;34m=\u001b[0m\u001b[0mpickle\u001b[0m\u001b[0;34m.\u001b[0m\u001b[0mload\u001b[0m\u001b[0;34m(\u001b[0m\u001b[0mopen\u001b[0m\u001b[0;34m(\u001b[0m\u001b[0;34m'trainHistoryDict'\u001b[0m\u001b[0;34m,\u001b[0m\u001b[0;34m'rb'\u001b[0m\u001b[0;34m)\u001b[0m\u001b[0;34m)\u001b[0m\u001b[0;34m\u001b[0m\u001b[0;34m\u001b[0m\u001b[0m\n\u001b[0m\u001b[1;32m      4\u001b[0m \u001b[0;34m\u001b[0m\u001b[0m\n\u001b[1;32m      5\u001b[0m \u001b[0mA\u001b[0m\u001b[0;34m=\u001b[0m\u001b[0mmodel_1\u001b[0m\u001b[0;34m.\u001b[0m\u001b[0mhistory\u001b[0m\u001b[0;34m.\u001b[0m\u001b[0mhistory\u001b[0m\u001b[0;34m\u001b[0m\u001b[0;34m\u001b[0m\u001b[0m\n",
            "\u001b[0;31mFileNotFoundError\u001b[0m: [Errno 2] No such file or directory: 'trainHistoryDict'"
          ]
        }
      ]
    },
    {
      "cell_type": "markdown",
      "metadata": {
        "id": "_SLqsub33W8c"
      },
      "source": [
        "Load testing data"
      ]
    },
    {
      "cell_type": "code",
      "metadata": {
        "id": "RMjvrKsgyIt8"
      },
      "source": [
        "\n",
        "mat = scio.loadmat('/content/drive/MyDrive/CNN_LightCurveProject/lc_50000examples_testset.mat')\n",
        "\n",
        "data=mat.get('data')\n",
        "labels=mat.get('labels')\n",
        "\n",
        "[n1,n2]=data.shape\n",
        "\n",
        "data=data.reshape(n1, n2, 1)\n",
        "\n",
        "num_test=  1000 \n",
        "\n",
        "test_data=data[0:num_test,:,:]\n",
        "test_labels=labels[0:num_test]\n",
        "\n",
        "num_classes=10\n",
        "\n",
        "test_labels_1hot=ult.to_categorical(test_labels,num_classes=num_classes)\n"
      ],
      "execution_count": null,
      "outputs": []
    },
    {
      "cell_type": "code",
      "metadata": {
        "colab": {
          "base_uri": "https://localhost:8080/"
        },
        "id": "YMtFdllt3r3t",
        "outputId": "31b1228f-f987-45b6-b6bc-868546423f1c"
      },
      "source": [
        "res=model_1.evaluate(test_data,test_labels_1hot,batch_size=100)\n",
        "print(res)"
      ],
      "execution_count": null,
      "outputs": [
        {
          "output_type": "stream",
          "text": [
            "10/10 [==============================] - 8s 808ms/step - loss: 0.2179 - categorical_accuracy: 0.9660\n",
            "[0.21785861253738403, 0.9660000205039978]\n"
          ],
          "name": "stdout"
        }
      ]
    },
    {
      "cell_type": "markdown",
      "metadata": {
        "id": "qob-vJ-u3Yms"
      },
      "source": [
        "Evaluate performance on testing data"
      ]
    },
    {
      "cell_type": "code",
      "metadata": {
        "colab": {
          "base_uri": "https://localhost:8080/",
          "height": 279
        },
        "id": "Qv27BjEz2wBz",
        "outputId": "4614c1c5-ceed-46e0-e1db-32c0fa5ded64"
      },
      "source": [
        "pred0=model_1.predict(test_data,batch_size=100)\n",
        "out1_mx=np.argmax(pred0,1)\n",
        "test_labels_z_mx=np.argmax(test_labels_1hot,1)\n",
        "cm1=metrics.confusion_matrix(test_labels_z_mx,out1_mx)\n",
        "plt.figure(0)\n",
        "plt.imshow(cm1)\n",
        "plt.xlabel('Actual class')\n",
        "plt.ylabel('Predicted class')\n",
        "plt.savefig('cm4.png',dpi=300)"
      ],
      "execution_count": null,
      "outputs": [
        {
          "output_type": "display_data",
          "data": {
            "image/png": "[encoded data removed]",
            "text/plain": [
              "<Figure size 432x288 with 1 Axes>"
            ]
          },
          "metadata": {
            "tags": [],
            "needs_background": "light"
          }
        }
      ]
    }
  ]
}